{
  "nbformat": 4,
  "nbformat_minor": 0,
  "metadata": {
    "colab": {
      "provenance": []
    },
    "kernelspec": {
      "name": "python3",
      "display_name": "Python 3"
    },
    "language_info": {
      "name": "python"
    }
  },
  "cells": [
    {
      "cell_type": "code",
      "execution_count": null,
      "metadata": {
        "id": "A81nWVE688tK"
      },
      "outputs": [],
      "source": [
        "import pandas as pd\n",
        "import numpy as np\n",
        "from sklearn.model_selection import train_test_split\n",
        "from sklearn.preprocessing import LabelEncoder, StandardScaler\n",
        "from sklearn.ensemble import RandomForestClassifier\n",
        "from sklearn.metrics import accuracy_score, precision_score, recall_score, f1_score\n",
        "import matplotlib.pyplot as plt\n",
        "# Load dataset\n",
        "df = pd.read_csv(\"loan_data.csv\")\n",
        "\n",
        "# Preprocessing\n",
        "# Handling missing values\n",
        "numeric_columns = df.select_dtypes(include=np.number).columns\n",
        "df[numeric_columns] = df[numeric_columns].fillna(df[numeric_columns].median())\n",
        "\n",
        "# Fill missing values for non-numeric columns\n",
        "for column in df.select_dtypes(include=['object']).columns:\n",
        "    df[column] = df[column].fillna(df[column].mode()[0])\n",
        "\n",
        "# Encoding categorical variables\n",
        "label_encoders = {}\n",
        "for column in df.select_dtypes(include=['object']).columns:\n",
        "    le = LabelEncoder()\n",
        "    df[column] = le.fit_transform(df[column])\n",
        "    label_encoders[column] = le\n",
        "\n",
        "# Splitting features and target\n",
        "print(df.columns)\n",
        "X = df.drop(columns=['loan_status'])\n",
        "y = df['loan_status']\n",
        "\n",
        "# Scaling the features\n",
        "scaler = StandardScaler()\n",
        "X = scaler.fit_transform(X)\n",
        "\n",
        "# Splitting dataset into training and testing sets\n",
        "X_train, X_test, y_train, y_test = train_test_split(X, y, test_size=0.2, random_state=42)\n",
        "\n",
        "# Model selection and training\n",
        "model = RandomForestClassifier(n_estimators=100, random_state=42)\n",
        "model.fit(X_train, y_train)\n",
        "\n",
        "# Predictions\n",
        "y_pred = model.predict(X_test)\n",
        "\n",
        "# Evaluation\n",
        "accuracy = accuracy_score(y_test, y_pred)\n",
        "precision = precision_score(y_test, y_pred)\n",
        "recall = recall_score(y_test, y_pred)\n",
        "f1 = f1_score(y_test, y_pred)\n",
        "\n",
        "# Displaying results\n",
        "print(f\"Accuracy: {accuracy:.4f}\")\n",
        "print(f\"Precision: {precision:.4f}\")\n",
        "print(f\"Recall: {recall:.4f}\")\n",
        "print(f\"F1 Score: {f1:.4f}\")\n",
        "\n",
        "# Plotting results\n",
        "metrics = ['Accuracy', 'Precision', 'Recall', 'F1 Score']\n",
        "values = [accuracy, precision, recall, f1]\n",
        "\n",
        "plt.figure(figsize=(8, 5))\n",
        "plt.bar(metrics, values, color=['blue', 'green', 'red', 'purple'])\n",
        "plt.ylim(0, 1)\n",
        "plt.xlabel(\"Metrics\")\n",
        "plt.ylabel(\"Scores\")\n",
        "plt.title(\"Loan Approval Model Performance\")\n",
        "plt.show()\n",
        "\n"
      ]
    }
  ]
}